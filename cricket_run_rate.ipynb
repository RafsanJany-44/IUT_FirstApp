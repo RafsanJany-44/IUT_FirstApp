{
  "nbformat": 4,
  "nbformat_minor": 0,
  "metadata": {
    "colab": {
      "name": "cricket_run_rate.ipynb",
      "provenance": [],
      "authorship_tag": "ABX9TyO6E/fR5fpiOJusXBesmYiQ",
      "include_colab_link": true
    },
    "kernelspec": {
      "name": "python3",
      "display_name": "Python 3"
    }
  },
  "cells": [
    {
      "cell_type": "markdown",
      "metadata": {
        "id": "view-in-github",
        "colab_type": "text"
      },
      "source": [
        "<a href=\"https://colab.research.google.com/github/RafsanJany-44/IUT_FirstApp/blob/main/cricket_run_rate.ipynb\" target=\"_parent\"><img src=\"https://colab.research.google.com/assets/colab-badge.svg\" alt=\"Open In Colab\"/></a>"
      ]
    },
    {
      "cell_type": "code",
      "metadata": {
        "colab": {
          "base_uri": "https://localhost:8080/"
        },
        "id": "CfK3RYVtSu5B",
        "outputId": "8fe5b56a-bdfc-45e8-eb4f-b821dc384854"
      },
      "source": [
        "\n",
        "\n",
        "total_run_scored=int(input(\"Enter the Total Run Scored: \"))\n",
        "tof=float(input(\"Enter the Total Over Faced: \"))\n",
        "\n",
        "total_run_conceded=int(input(\"Enter the Total Run Coceded: \"))\n",
        "tob=float(input(\"Enter the Total Over Bowled: \"))\n",
        "\n",
        "\n",
        "\n",
        "tolatOverFaced=int(tof)+(((tof-int(tof))*10/6))\n",
        "tolatOverBowled=int(tob)+(((tob-int(tob))*10/6))\n",
        "\n",
        "runRate=((total_run_scored/tolatOverFaced)-(total_run_conceded/tolatOverBowled))\n",
        "\n",
        "print(runRate)"
      ],
      "execution_count": 26,
      "outputs": [
        {
          "output_type": "stream",
          "text": [
            "Enter the Total Run Scored: 58\n",
            "Enter the Total Over Faced: 4\n",
            "Enter the Total Run Coceded: 67\n",
            "Enter the Total Over Bowled: 9\n",
            "7.055555555555555\n"
          ],
          "name": "stdout"
        }
      ]
    },
    {
      "cell_type": "code",
      "metadata": {
        "colab": {
          "base_uri": "https://localhost:8080/"
        },
        "id": "oq0BiksPXx3D",
        "outputId": "775b31ff-d8eb-455d-e6be-51c5ac6fce9f"
      },
      "source": [
        "print(250/tolatOverFaced)"
      ],
      "execution_count": 24,
      "outputs": [
        {
          "output_type": "stream",
          "text": [
            "5.2264808362369335\n"
          ],
          "name": "stdout"
        }
      ]
    },
    {
      "cell_type": "code",
      "metadata": {
        "colab": {
          "base_uri": "https://localhost:8080/"
        },
        "id": "zguOd-gyaNjm",
        "outputId": "95184b4c-c487-4bb4-9907-b57539c7a442"
      },
      "source": [
        "print((((total_Over_faced-int(total_Over_faced))*10/6)))"
      ],
      "execution_count": 21,
      "outputs": [
        {
          "output_type": "stream",
          "text": [
            "0.8333333333333334\n"
          ],
          "name": "stdout"
        }
      ]
    },
    {
      "cell_type": "code",
      "metadata": {
        "id": "wX3nq4QTc-fy"
      },
      "source": [
        "\n",
        "\n",
        "def RunRate(total_run_scored,tof,total_run_conceded,tob):\n",
        "\n",
        "  tolatOverFaced=int(tof)+(((tof-int(tof))*10/6))\n",
        "  tolatOverBowled=int(tob)+(((tob-int(tob))*10/6))\n",
        "\n",
        "  return ((total_run_scored/tolatOverFaced)-(total_run_conceded/tolatOverBowled))\n",
        "\n"
      ],
      "execution_count": 28,
      "outputs": []
    },
    {
      "cell_type": "code",
      "metadata": {
        "colab": {
          "base_uri": "https://localhost:8080/"
        },
        "id": "4YVQWy7gmH_o",
        "outputId": "959a5685-1887-499b-d6fc-2651b474c9d5"
      },
      "source": [
        "print(RunRate(250,50,250,47.5\n",
        "              ))"
      ],
      "execution_count": 29,
      "outputs": [
        {
          "output_type": "stream",
          "text": [
            "-0.2264808362369335\n"
          ],
          "name": "stdout"
        }
      ]
    },
    {
      "cell_type": "code",
      "metadata": {
        "id": "bOI0aL88mNpe"
      },
      "source": [
        ""
      ],
      "execution_count": null,
      "outputs": []
    }
  ]
}